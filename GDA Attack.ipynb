{
 "cells": [
  {
   "cell_type": "markdown",
   "id": "9f3150de",
   "metadata": {},
   "source": [
    "<font size=\"6\"> Gradient Descent Attack on Model Parameters <font/>\n",
    "    \n",
    "<font size=\"3\">    Deep neural network (DNN), being able to effectively learn from a training set and provide highly accurate classification results, has become the de-facto technique used in many mission-critical systems. The security of DNN itself is therefore of great concern. In this paper, we investigate the impact of fault injection attacks on DNN, wherein attackers try to misclassify a specified input pattern into an adversarial class by modifying the parameters used in DNN via fault injection. The authors of the paper titled as \"Fault Injection Attack on Deep Neural Network\" proposed the GDA attack which allows an adversary to cause misclassification of certain input samples by tampering as few parameters as possible and with minimal impact on the accracy of the model on the original learning task. In this notebook, we will implement GDA attack on a ReseNet-20 model trained on CIFAR10.<font/>"
   ]
  },
  {
   "cell_type": "markdown",
   "id": "f58a5195",
   "metadata": {},
   "source": [
    "<font size=\"5\"> Importing the libraries <font/>"
   ]
  },
  {
   "cell_type": "code",
   "execution_count": 13,
   "id": "f9f1c1e0",
   "metadata": {},
   "outputs": [],
   "source": [
    "import os\n",
    "os.environ['TF_CPP_MIN_LOG_LEVEL'] = '3'\n",
    "import tensorflow as tf\n",
    "tf.compat.v1.disable_eager_execution()\n",
    "from tensorflow import keras\n",
    "from keras import backend as K\n",
    "from keras.models import load_model\n",
    "from keras.datasets import cifar10\n",
    "import numpy as np\n",
    "import matplotlib.pyplot as plt\n",
    "import random"
   ]
  },
  {
   "cell_type": "markdown",
   "id": "4428c9de",
   "metadata": {},
   "source": [
    "<font size=\"5\"> Loading the Dataset <font/>"
   ]
  },
  {
   "cell_type": "code",
   "execution_count": 2,
   "id": "a09ef459",
   "metadata": {},
   "outputs": [],
   "source": [
    "(x_train, y_train), (x_test, y_test) = cifar10.load_data()\n",
    "x_train = x_train.astype('float32') / 255\n",
    "x_test = x_test.astype('float32') / 255\n",
    "num_classes = 10\n",
    "\n",
    "y_train = keras.utils.to_categorical(y_train, num_classes)\n",
    "y_test = keras.utils.to_categorical(y_test, num_classes)"
   ]
  },
  {
   "cell_type": "markdown",
   "id": "c36fc1cb",
   "metadata": {},
   "source": [
    "<font size=\"5\"> Attack Parameters <font/>\n",
    "    \n",
    "The goal is to misclassify an image of cat as dog by perturbing minimum number of parameters."
   ]
  },
  {
   "cell_type": "code",
   "execution_count": 3,
   "id": "7ff3d83e",
   "metadata": {},
   "outputs": [],
   "source": [
    "base_label = 3 ## Class Cat\n",
    "target_label = 5 ## Class Dog\n",
    "idx = random.sample((np.where(np.argmax(y_train,axis=1) == base_label)[0]).tolist(),1)[0]\n",
    "attack_sampled = x_train[idx,::]"
   ]
  },
  {
   "cell_type": "code",
   "execution_count": 23,
   "id": "0302b560",
   "metadata": {},
   "outputs": [
    {
     "data": {
      "image/png": "[encoded data removed]",
      "text/plain": [
       "<Figure size 108x108 with 1 Axes>"
      ]
     },
     "metadata": {},
     "output_type": "display_data"
    }
   ],
   "source": [
    "plt.figure(figsize=(1.5,1.5))\n",
    "ax = plt.subplot(1,1,1)\n",
    "ax.imshow(attack_sampled)\n",
    "ax.set_title(\"Image to be missclassified\")\n",
    "ax.set_xticks([])\n",
    "ax.set_yticks([])\n",
    "plt.show()"
   ]
  },
  {
   "cell_type": "markdown",
   "id": "c2653da0",
   "metadata": {},
   "source": [
    "<font size=\"5\"> Loading the Model <font/>"
   ]
  },
  {
   "cell_type": "code",
   "execution_count": 4,
   "id": "462a1c9d",
   "metadata": {},
   "outputs": [
    {
     "name": "stdout",
     "output_type": "stream",
     "text": [
      "WARNING:tensorflow:From /home/omid/.local/lib/python3.8/site-packages/keras/layers/normalization/batch_normalization.py:532: _colocate_with (from tensorflow.python.framework.ops) is deprecated and will be removed in a future version.\n",
      "Instructions for updating:\n",
      "Colocations handled automatically by placer.\n",
      "Model: \"model_1\"\n",
      "__________________________________________________________________________________________________\n",
      " Layer (type)                   Output Shape         Param #     Connected to                     \n",
      "==================================================================================================\n",
      " input_1 (InputLayer)           [(None, 32, 32, 3)]  0           []                               \n",
      "                                                                                                  \n",
      " conv2d_1 (Conv2D)              (None, 32, 32, 16)   448         ['input_1[0][0]']                \n",
      "                                                                                                  \n",
      " batch_normalization_1 (BatchNo  (None, 32, 32, 16)  64          ['conv2d_1[0][0]']               \n",
      " rmalization)                                                                                     \n",
      "                                                                                                  \n",
      " activation_1 (Activation)      (None, 32, 32, 16)   0           ['batch_normalization_1[0][0]']  \n",
      "                                                                                                  \n",
      " conv2d_2 (Conv2D)              (None, 32, 32, 16)   2320        ['activation_1[0][0]']           \n",
      "                                                                                                  \n",
      " batch_normalization_2 (BatchNo  (None, 32, 32, 16)  64          ['conv2d_2[0][0]']               \n",
      " rmalization)                                                                                     \n",
      "                                                                                                  \n",
      " activation_2 (Activation)      (None, 32, 32, 16)   0           ['batch_normalization_2[0][0]']  \n",
      "                                                                                                  \n",
      " conv2d_3 (Conv2D)              (None, 32, 32, 16)   2320        ['activation_2[0][0]']           \n",
      "                                                                                                  \n",
      " batch_normalization_3 (BatchNo  (None, 32, 32, 16)  64          ['conv2d_3[0][0]']               \n",
      " rmalization)                                                                                     \n",
      "                                                                                                  \n",
      " add_1 (Add)                    (None, 32, 32, 16)   0           ['activation_1[0][0]',           \n",
      "                                                                  'batch_normalization_3[0][0]']  \n",
      "                                                                                                  \n",
      " activation_3 (Activation)      (None, 32, 32, 16)   0           ['add_1[0][0]']                  \n",
      "                                                                                                  \n",
      " conv2d_4 (Conv2D)              (None, 32, 32, 16)   2320        ['activation_3[0][0]']           \n",
      "                                                                                                  \n",
      " batch_normalization_4 (BatchNo  (None, 32, 32, 16)  64          ['conv2d_4[0][0]']               \n",
      " rmalization)                                                                                     \n",
      "                                                                                                  \n",
      " activation_4 (Activation)      (None, 32, 32, 16)   0           ['batch_normalization_4[0][0]']  \n",
      "                                                                                                  \n",
      " conv2d_5 (Conv2D)              (None, 32, 32, 16)   2320        ['activation_4[0][0]']           \n",
      "                                                                                                  \n",
      " batch_normalization_5 (BatchNo  (None, 32, 32, 16)  64          ['conv2d_5[0][0]']               \n",
      " rmalization)                                                                                     \n",
      "                                                                                                  \n",
      " add_2 (Add)                    (None, 32, 32, 16)   0           ['activation_3[0][0]',           \n",
      "                                                                  'batch_normalization_5[0][0]']  \n",
      "                                                                                                  \n",
      " activation_5 (Activation)      (None, 32, 32, 16)   0           ['add_2[0][0]']                  \n",
      "                                                                                                  \n",
      " conv2d_6 (Conv2D)              (None, 32, 32, 16)   2320        ['activation_5[0][0]']           \n",
      "                                                                                                  \n",
      " batch_normalization_6 (BatchNo  (None, 32, 32, 16)  64          ['conv2d_6[0][0]']               \n",
      " rmalization)                                                                                     \n",
      "                                                                                                  \n",
      " activation_6 (Activation)      (None, 32, 32, 16)   0           ['batch_normalization_6[0][0]']  \n",
      "                                                                                                  \n",
      " conv2d_7 (Conv2D)              (None, 32, 32, 16)   2320        ['activation_6[0][0]']           \n",
      "                                                                                                  \n",
      " batch_normalization_7 (BatchNo  (None, 32, 32, 16)  64          ['conv2d_7[0][0]']               \n",
      " rmalization)                                                                                     \n",
      "                                                                                                  \n",
      " add_3 (Add)                    (None, 32, 32, 16)   0           ['activation_5[0][0]',           \n",
      "                                                                  'batch_normalization_7[0][0]']  \n",
      "                                                                                                  \n",
      " activation_7 (Activation)      (None, 32, 32, 16)   0           ['add_3[0][0]']                  \n",
      "                                                                                                  \n",
      " conv2d_8 (Conv2D)              (None, 16, 16, 32)   4640        ['activation_7[0][0]']           \n",
      "                                                                                                  \n",
      " batch_normalization_8 (BatchNo  (None, 16, 16, 32)  128         ['conv2d_8[0][0]']               \n",
      " rmalization)                                                                                     \n",
      "                                                                                                  \n",
      " activation_8 (Activation)      (None, 16, 16, 32)   0           ['batch_normalization_8[0][0]']  \n",
      "                                                                                                  \n",
      " conv2d_9 (Conv2D)              (None, 16, 16, 32)   9248        ['activation_8[0][0]']           \n",
      "                                                                                                  \n",
      " conv2d_10 (Conv2D)             (None, 16, 16, 32)   544         ['activation_7[0][0]']           \n",
      "                                                                                                  \n",
      " batch_normalization_9 (BatchNo  (None, 16, 16, 32)  128         ['conv2d_9[0][0]']               \n",
      " rmalization)                                                                                     \n",
      "                                                                                                  \n",
      " add_4 (Add)                    (None, 16, 16, 32)   0           ['conv2d_10[0][0]',              \n",
      "                                                                  'batch_normalization_9[0][0]']  \n",
      "                                                                                                  \n",
      " activation_9 (Activation)      (None, 16, 16, 32)   0           ['add_4[0][0]']                  \n",
      "                                                                                                  \n",
      " conv2d_11 (Conv2D)             (None, 16, 16, 32)   9248        ['activation_9[0][0]']           \n",
      "                                                                                                  \n",
      " batch_normalization_10 (BatchN  (None, 16, 16, 32)  128         ['conv2d_11[0][0]']              \n",
      " ormalization)                                                                                    \n",
      "                                                                                                  \n",
      " activation_10 (Activation)     (None, 16, 16, 32)   0           ['batch_normalization_10[0][0]'] \n",
      "                                                                                                  \n",
      " conv2d_12 (Conv2D)             (None, 16, 16, 32)   9248        ['activation_10[0][0]']          \n",
      "                                                                                                  \n",
      " batch_normalization_11 (BatchN  (None, 16, 16, 32)  128         ['conv2d_12[0][0]']              \n",
      " ormalization)                                                                                    \n",
      "                                                                                                  \n",
      " add_5 (Add)                    (None, 16, 16, 32)   0           ['activation_9[0][0]',           \n",
      "                                                                  'batch_normalization_11[0][0]'] \n",
      "                                                                                                  \n",
      " activation_11 (Activation)     (None, 16, 16, 32)   0           ['add_5[0][0]']                  \n",
      "                                                                                                  \n",
      " conv2d_13 (Conv2D)             (None, 16, 16, 32)   9248        ['activation_11[0][0]']          \n",
      "                                                                                                  \n",
      " batch_normalization_12 (BatchN  (None, 16, 16, 32)  128         ['conv2d_13[0][0]']              \n",
      " ormalization)                                                                                    \n",
      "                                                                                                  \n",
      " activation_12 (Activation)     (None, 16, 16, 32)   0           ['batch_normalization_12[0][0]'] \n",
      "                                                                                                  \n",
      " conv2d_14 (Conv2D)             (None, 16, 16, 32)   9248        ['activation_12[0][0]']          \n",
      "                                                                                                  \n",
      " batch_normalization_13 (BatchN  (None, 16, 16, 32)  128         ['conv2d_14[0][0]']              \n",
      " ormalization)                                                                                    \n",
      "                                                                                                  \n",
      " add_6 (Add)                    (None, 16, 16, 32)   0           ['activation_11[0][0]',          \n",
      "                                                                  'batch_normalization_13[0][0]'] \n",
      "                                                                                                  \n",
      " activation_13 (Activation)     (None, 16, 16, 32)   0           ['add_6[0][0]']                  \n",
      "                                                                                                  \n",
      " conv2d_15 (Conv2D)             (None, 8, 8, 64)     18496       ['activation_13[0][0]']          \n",
      "                                                                                                  \n",
      " batch_normalization_14 (BatchN  (None, 8, 8, 64)    256         ['conv2d_15[0][0]']              \n",
      " ormalization)                                                                                    \n",
      "                                                                                                  \n",
      " activation_14 (Activation)     (None, 8, 8, 64)     0           ['batch_normalization_14[0][0]'] \n",
      "                                                                                                  \n",
      " conv2d_16 (Conv2D)             (None, 8, 8, 64)     36928       ['activation_14[0][0]']          \n",
      "                                                                                                  \n",
      " conv2d_17 (Conv2D)             (None, 8, 8, 64)     2112        ['activation_13[0][0]']          \n",
      "                                                                                                  \n",
      " batch_normalization_15 (BatchN  (None, 8, 8, 64)    256         ['conv2d_16[0][0]']              \n",
      " ormalization)                                                                                    \n",
      "                                                                                                  \n",
      " add_7 (Add)                    (None, 8, 8, 64)     0           ['conv2d_17[0][0]',              \n",
      "                                                                  'batch_normalization_15[0][0]'] \n",
      "                                                                                                  \n",
      " activation_15 (Activation)     (None, 8, 8, 64)     0           ['add_7[0][0]']                  \n",
      "                                                                                                  \n",
      " conv2d_18 (Conv2D)             (None, 8, 8, 64)     36928       ['activation_15[0][0]']          \n",
      "                                                                                                  \n",
      " batch_normalization_16 (BatchN  (None, 8, 8, 64)    256         ['conv2d_18[0][0]']              \n",
      " ormalization)                                                                                    \n",
      "                                                                                                  \n",
      " activation_16 (Activation)     (None, 8, 8, 64)     0           ['batch_normalization_16[0][0]'] \n",
      "                                                                                                  \n",
      " conv2d_19 (Conv2D)             (None, 8, 8, 64)     36928       ['activation_16[0][0]']          \n",
      "                                                                                                  \n",
      " batch_normalization_17 (BatchN  (None, 8, 8, 64)    256         ['conv2d_19[0][0]']              \n",
      " ormalization)                                                                                    \n",
      "                                                                                                  \n",
      " add_8 (Add)                    (None, 8, 8, 64)     0           ['activation_15[0][0]',          \n",
      "                                                                  'batch_normalization_17[0][0]'] \n",
      "                                                                                                  \n",
      " activation_17 (Activation)     (None, 8, 8, 64)     0           ['add_8[0][0]']                  \n",
      "                                                                                                  \n",
      " conv2d_20 (Conv2D)             (None, 8, 8, 64)     36928       ['activation_17[0][0]']          \n",
      "                                                                                                  \n",
      " batch_normalization_18 (BatchN  (None, 8, 8, 64)    256         ['conv2d_20[0][0]']              \n",
      " ormalization)                                                                                    \n",
      "                                                                                                  \n",
      " activation_18 (Activation)     (None, 8, 8, 64)     0           ['batch_normalization_18[0][0]'] \n",
      "                                                                                                  \n",
      " conv2d_21 (Conv2D)             (None, 8, 8, 64)     36928       ['activation_18[0][0]']          \n",
      "                                                                                                  \n",
      " batch_normalization_19 (BatchN  (None, 8, 8, 64)    256         ['conv2d_21[0][0]']              \n",
      " ormalization)                                                                                    \n",
      "                                                                                                  \n",
      " add_9 (Add)                    (None, 8, 8, 64)     0           ['activation_17[0][0]',          \n",
      "                                                                  'batch_normalization_19[0][0]'] \n",
      "                                                                                                  \n",
      " activation_19 (Activation)     (None, 8, 8, 64)     0           ['add_9[0][0]']                  \n",
      "                                                                                                  \n",
      " average_pooling2d_1 (AveragePo  (None, 1, 1, 64)    0           ['activation_19[0][0]']          \n",
      " oling2D)                                                                                         \n",
      "                                                                                                  \n",
      " flatten_1 (Flatten)            (None, 64)           0           ['average_pooling2d_1[0][0]']    \n",
      "                                                                                                  \n",
      " dense_1 (Dense)                (None, 10)           650         ['flatten_1[0][0]']              \n",
      "                                                                                                  \n",
      " activation_20 (Activation)     (None, 10)           0           ['dense_1[0][0]']                \n",
      "                                                                                                  \n",
      "==================================================================================================\n",
      "Total params: 274,442\n",
      "Trainable params: 273,066\n",
      "Non-trainable params: 1,376\n",
      "__________________________________________________________________________________________________\n",
      "None\n"
     ]
    },
    {
     "name": "stderr",
     "output_type": "stream",
     "text": [
      "/home/omid/.local/lib/python3.8/site-packages/keras/engine/training_v1.py:2057: UserWarning: `Model.state_updates` will be removed in a future version. This property should not be used in TensorFlow 2.0, as `updates` are applied automatically.\n",
      "  updates = self.state_updates\n"
     ]
    },
    {
     "name": "stdout",
     "output_type": "stream",
     "text": [
      "model's test accuracy before GDA Attack :  0.9057\n"
     ]
    }
   ],
   "source": [
    "model_type = 'cifar10'\n",
    "model = load_model('./'+model_type+'.hdf5',compile=False)\n",
    "print(model.summary())\n",
    "model.compile(loss='categorical_crossentropy', optimizer=keras.optimizers.SGD(), metrics=['accuracy'])\n",
    "test_acc = model.evaluate(x_test,y_test)[1]\n",
    "print(\"model's test accuracy before GDA Attack : \", test_acc)"
   ]
  },
  {
   "cell_type": "code",
   "execution_count": 5,
   "id": "74c562d2",
   "metadata": {},
   "outputs": [],
   "source": [
    "classification_layer_name = 'dense_1'\n",
    "W,_ = model.get_layer(classification_layer_name).trainable_weights\n",
    "layer_parameters = K.flatten(W)\n",
    "original_W,original_B = model.get_layer(classification_layer_name).get_weights()\n",
    "original_W_flattened = K.flatten(original_W)"
   ]
  },
  {
   "cell_type": "markdown",
   "id": "a3c4319e",
   "metadata": {},
   "source": [
    "<font size=\"5\"> Defining the GDA Loss <font/>"
   ]
  },
  {
   "cell_type": "code",
   "execution_count": 6,
   "id": "ff1ce9d0",
   "metadata": {},
   "outputs": [],
   "source": [
    "beta = 0.1\n",
    "GDA_loss = model.get_layer(classification_layer_name).output[0,target_label]- beta*K.sum(K.abs(layer_parameters-original_W_flattened))\n",
    "\n",
    "get_W_grads = K.function([model.input],K.gradients(GDA_loss,W))\n",
    "get_l1_distance = K.function([model.input],[K.sum(K.abs(layer_parameters-original_W_flattened))])\n",
    "get_target_output = K.function([model.input],[K.mean(model.output[:,target_label])])\n",
    "get_GDA_loss = K.function([model.input],[GDA_loss])\n"
   ]
  },
  {
   "cell_type": "markdown",
   "id": "303a4291",
   "metadata": {},
   "source": [
    "<font size=\"5\"> Computing Required Modification to the Final Layer <font/>"
   ]
  },
  {
   "cell_type": "code",
   "execution_count": 7,
   "id": "98f70abb",
   "metadata": {},
   "outputs": [
    {
     "name": "stdout",
     "output_type": "stream",
     "text": [
      "[ 555 ]   total loss :  3.80649  output value :  0.50085  L1 distance :  2.57149\n",
      " Output value :  0.50085  L1 distance :  2.57149\n"
     ]
    }
   ],
   "source": [
    "input_x = attack_sampled.reshape((1,)+attack_sampled.shape)\n",
    "lr = 1e-4\n",
    "epochs = 1000\n",
    "best_loss = -10e+10\n",
    "final_W = None \n",
    "for e in range(epochs):\n",
    "    W_grads = get_W_grads([input_x])[0]\n",
    "    \n",
    "    curr_W,_ = model.get_layer(classification_layer_name).get_weights()\n",
    "    new_W = curr_W+lr*W_grads\n",
    "    \n",
    "    model.get_layer(classification_layer_name).set_weights([new_W,original_B])\n",
    "\n",
    "    output_value = get_target_output([input_x])[0]\n",
    "    l1_distance = get_l1_distance([input_x])[0]\n",
    "    current_loss = get_GDA_loss([input_x])[0]\n",
    "\n",
    "    if best_loss < current_loss :\n",
    "        best_loss = current_loss\n",
    "        final_W,_ = model.get_layer(classification_layer_name).get_weights()\n",
    "\n",
    "    print('[',e,'] ',\" total loss : \", '{:0.5f}'.format(current_loss),\" output value : \", '{:0.5f}'.format(output_value),\" L1 distance : \", '{:0.5f}'.format(l1_distance) , end='\\r')\n",
    "    \n",
    "    if  0.5 < output_value:\n",
    "        break\n",
    "\n",
    "model.get_layer(classification_layer_name).set_weights([final_W,original_B])\n",
    "output_value = get_target_output([input_x])[0]\n",
    "l1_distance = get_l1_distance([input_x])[0]\n",
    "print(\"\\n Output value : \", '{:0.5f}'.format(output_value),\" L1 distance : \", '{:0.5f}'.format(l1_distance))"
   ]
  },
  {
   "cell_type": "markdown",
   "id": "593b678a",
   "metadata": {},
   "source": [
    "<font size=\"5\"> Modification Compression <font/>"
   ]
  },
  {
   "cell_type": "code",
   "execution_count": 8,
   "id": "b3883d6c",
   "metadata": {},
   "outputs": [
    {
     "name": "stdout",
     "output_type": "stream",
     "text": [
      "Search index:  320\n",
      "GDA output value :  0.50  L1 distance :  2.57\n"
     ]
    },
    {
     "name": "stderr",
     "output_type": "stream",
     "text": [
      "/home/omid/.local/lib/python3.8/site-packages/keras/engine/training_v1.py:2079: UserWarning: `Model.state_updates` will be removed in a future version. This property should not be used in TensorFlow 2.0, as `updates` are applied automatically.\n",
      "  updates=self.state_updates,\n"
     ]
    },
    {
     "name": "stdout",
     "output_type": "stream",
     "text": [
      "Search index:  480\n",
      "GDA output value :  0.50  L1 distance :  2.57\n",
      "Search index:  560\n",
      "GDA output value :  0.50  L1 distance :  2.57\n",
      "Search index:  600\n",
      "GDA output value :  0.46  L1 distance :  2.22\n",
      "Search index:  580\n",
      "GDA output value :  0.50  L1 distance :  2.56\n",
      "Search index:  590\n",
      "GDA output value :  0.49  L1 distance :  2.44\n",
      "Search index:  595\n",
      "GDA output value :  0.48  L1 distance :  2.34\n",
      "Search index:  592\n",
      "GDA output value :  0.49  L1 distance :  2.40\n",
      "Search index:  593\n",
      "GDA output value :  0.48  L1 distance :  2.38\n",
      "Final search index:  593\n"
     ]
    }
   ],
   "source": [
    "def zero_out(to_index):\n",
    "    flattened_diff_W = K.get_value(K.flatten(final_W-original_W))\n",
    "    sorted_indeces = np.argsort(flattened_diff_W)\n",
    "    flattened_diff_W[sorted_indeces[:to_index]] = 0.0\n",
    "    return K.get_value(K.reshape(K.flatten(original_W)+flattened_diff_W,shape=original_W.shape))\n",
    "\n",
    "min_i = 0\n",
    "max_i = original_W.size\n",
    "search_index = 0\n",
    "while True:\n",
    "    search_index = (min_i+max_i)//2\n",
    "    print('Search index: ', search_index)\n",
    "    GDA_W = zero_out(to_index=search_index)\n",
    "    model.get_layer(classification_layer_name).set_weights([GDA_W,original_B])\n",
    "    output_value = get_target_output([input_x])[0]\n",
    "    l1_distance = get_l1_distance([input_x])[0]\n",
    "    print(\"GDA output value : \", '{:0.2f}'.format(output_value),\" L1 distance : \", '{:0.2f}'.format(l1_distance))\n",
    "    if np.argmax(model.predict(input_x),axis=1)[0] == target_label:\n",
    "        min_i = search_index\n",
    "        GDA_W = zero_out(to_index=search_index+1)\n",
    "        model.get_layer(classification_layer_name).set_weights([GDA_W,original_B])\n",
    "        if np.argmax(model.predict(input_x),axis=1)[0] != target_label:\n",
    "            print('Final search index: ', search_index)\n",
    "            break\n",
    "    else:\n",
    "        max_i = search_index\n",
    "\n",
    "\n",
    "GDA_W = zero_out(to_index=search_index)\n",
    "model.get_layer(classification_layer_name).set_weights([GDA_W,original_B])\n",
    "model.compile(loss='categorical_crossentropy', optimizer=keras.optimizers.SGD(), metrics=['accuracy'])\n",
    "model.save('GDA.hdf5')"
   ]
  },
  {
   "cell_type": "code",
   "execution_count": 9,
   "id": "a78f4fec",
   "metadata": {},
   "outputs": [
    {
     "name": "stdout",
     "output_type": "stream",
     "text": [
      "model's test accuracy after :  0.891\n"
     ]
    }
   ],
   "source": [
    "model = load_model('GDA.hdf5',compile=False)\n",
    "model.compile(loss='categorical_crossentropy', optimizer=keras.optimizers.SGD(), metrics=['accuracy'])\n",
    "assert np.argmax(model.predict(attack_sampled.reshape((1,)+attack_sampled.shape)),axis=1)[0] == target_label\n",
    "test_acc = model.evaluate(x_test,y_test)[1]\n",
    "print(\"model's test accuracy after : \", test_acc)"
   ]
  }
 ],
 "metadata": {
  "kernelspec": {
   "display_name": "Python 3 (ipykernel)",
   "language": "python",
   "name": "python3"
  },
  "language_info": {
   "codemirror_mode": {
    "name": "ipython",
    "version": 3
   },
   "file_extension": ".py",
   "mimetype": "text/x-python",
   "name": "python",
   "nbconvert_exporter": "python",
   "pygments_lexer": "ipython3",
   "version": "3.8.10"
  }
 },
 "nbformat": 4,
 "nbformat_minor": 5
}
